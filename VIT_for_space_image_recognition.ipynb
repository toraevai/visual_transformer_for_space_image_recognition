{
  "nbformat": 4,
  "nbformat_minor": 0,
  "metadata": {
    "colab": {
      "provenance": [],
      "gpuType": "T4",
      "authorship_tag": "ABX9TyPpbMjPl4Z/hV6JKNDDgQQE",
      "include_colab_link": true
    },
    "kernelspec": {
      "name": "python3",
      "display_name": "Python 3"
    },
    "language_info": {
      "name": "python"
    },
    "accelerator": "GPU"
  },
  "cells": [
    {
      "cell_type": "markdown",
      "metadata": {
        "id": "view-in-github",
        "colab_type": "text"
      },
      "source": [
        "<a href=\"https://colab.research.google.com/github/toraevai/visual_transformer_for_space_image_recognition/blob/main/VIT_for_space_image_recognition.ipynb\" target=\"_parent\"><img src=\"https://colab.research.google.com/assets/colab-badge.svg\" alt=\"Open In Colab\"/></a>"
      ]
    },
    {
      "cell_type": "markdown",
      "source": [
        "# Установка и импорт библиотек"
      ],
      "metadata": {
        "id": "lTV65BeudZ7A"
      }
    },
    {
      "cell_type": "code",
      "source": [
        "import torch\n",
        "from torch.utils.data import DataLoader, Dataset\n",
        "from torchvision import transforms\n",
        "from transformers import ViTForImageClassification, ViTFeatureExtractor\n",
        "from PIL import Image\n",
        "import os\n",
        "import numpy as np\n",
        "import matplotlib.pyplot as plt"
      ],
      "metadata": {
        "id": "lEqHt1iMfTni"
      },
      "execution_count": null,
      "outputs": []
    },
    {
      "cell_type": "markdown",
      "source": [
        "# Теоретическая часть"
      ],
      "metadata": {
        "id": "Ycij4ge1dfZd"
      }
    },
    {
      "cell_type": "markdown",
      "source": [
        "Проблема отслеживания изменения поверхности земли с помощью снимков со спутника хорошо описывается в статье \"Vision Transformer for Multispectral Satellite Imagery: Advancing Landcover Classification\" (https://openaccess.thecvf.com/content/WACV2024/papers/Rad_Vision_Transformer_for_Multispectral_Satellite_Imagery_Advancing_Landcover_Classification_WACV_2024_paper.pdf).  \n",
        "Мною же реализовано дообучение модели с huggingface \"google/vit-base-patch16-224\" для проведения классификации спутниковых снимков."
      ],
      "metadata": {
        "id": "dk0qEUiQaAUi"
      }
    },
    {
      "cell_type": "markdown",
      "source": [
        "# Подготовка данных"
      ],
      "metadata": {
        "id": "g1wBR-EmdjpS"
      }
    },
    {
      "cell_type": "code",
      "source": [
        "# Подключяаем гугл-диск для загрузки датасета\n",
        "from google.colab import drive\n",
        "drive.mount('/content/drive')"
      ],
      "metadata": {
        "id": "hOijMtBmCyzp"
      },
      "execution_count": null,
      "outputs": []
    },
    {
      "cell_type": "code",
      "source": [
        "!cp /content/drive/MyDrive/EuroSAT_RGB.zip '.'"
      ],
      "metadata": {
        "id": "sAvMaFgODHS2"
      },
      "execution_count": null,
      "outputs": []
    },
    {
      "cell_type": "code",
      "source": [
        "!unzip -q EuroSAT_RGB.zip"
      ],
      "metadata": {
        "id": "-tJMN-zZ83Uz"
      },
      "execution_count": null,
      "outputs": []
    },
    {
      "cell_type": "code",
      "source": [
        "!ls /content/EuroSAT_RGB"
      ],
      "metadata": {
        "id": "zM-Ah8hlFzpa"
      },
      "execution_count": null,
      "outputs": []
    },
    {
      "cell_type": "code",
      "source": [
        "folders_path = '/content/EuroSAT_RGB/'"
      ],
      "metadata": {
        "id": "0N-qnLeh3XHF"
      },
      "execution_count": null,
      "outputs": []
    },
    {
      "cell_type": "code",
      "source": [
        "# 1. Создание пользовательского Dataset для спутниковых снимков\n",
        "class SatelliteImageDataset(Dataset):\n",
        "    def __init__(self, main_folder, img_num, transform=None):\n",
        "        \"\"\"\n",
        "        Args:\n",
        "            main_folder (str): Путь к главной папке с подпапками-классами.\n",
        "            transform (callable, optional): Преобразования, применяемые к изображениям.\n",
        "        \"\"\"\n",
        "        self.main_folder = main_folder\n",
        "        self.transform = transform\n",
        "\n",
        "        # Собираем список всех изображений и их меток\n",
        "        self.image_paths = []\n",
        "        self.labels = []\n",
        "        self.label_names = set()\n",
        "\n",
        "        # Проходим по всем подпапкам (классам)\n",
        "        for label in os.listdir(main_folder):\n",
        "            class_folder = os.path.join(main_folder, label)\n",
        "            if os.path.isdir(class_folder):\n",
        "                # Проходим по всем изображениям в папке класса\n",
        "                for image_name in os.listdir(class_folder):\n",
        "                    if self.labels.count(label) < img_num:\n",
        "                        image_path = os.path.join(class_folder, image_name)\n",
        "                        if os.path.isfile(image_path):\n",
        "                            self.image_paths.append(image_path)\n",
        "                            self.labels.append(label)\n",
        "                            self.label_names.add(label)\n",
        "\n",
        "        # Преобразуем метки в числовой формат\n",
        "        self.label_to_idx = {label: idx for idx, label in enumerate(set(self.labels))}\n",
        "        self.idx_to_label = {idx: label for label, idx in self.label_to_idx.items()}\n",
        "        self.labels = [self.label_to_idx[label] for label in self.labels]\n",
        "\n",
        "    def __len__(self):\n",
        "        return len(self.image_paths)\n",
        "\n",
        "    def __getitem__(self, idx):\n",
        "        \"\"\"\n",
        "        Возвращает изображение и его метку по индексу.\n",
        "        \"\"\"\n",
        "        image_path = self.image_paths[idx]\n",
        "        label = self.labels[idx]\n",
        "\n",
        "        # Загружаем изображение\n",
        "        image = Image.open(image_path).convert(\"RGB\")  # Конвертируем в RGB\n",
        "\n",
        "        # Применяем преобразования, если они заданы\n",
        "        if self.transform:\n",
        "            image = self.transform(image)\n",
        "\n",
        "        return image, label\n",
        "\n",
        "# 2. Предобработка данных\n",
        "transform = transforms.Compose([\n",
        "    transforms.Resize((224, 224)),  # ViT ожидает изображения 224x224\n",
        "    transforms.ToTensor(),          # Преобразуем в тензор\n",
        "    transforms.Normalize(mean=[0.5, 0.5, 0.5], std=[0.5, 0.5, 0.5])  # Нормализация\n",
        "])\n",
        "\n",
        "dataset = SatelliteImageDataset(main_folder=folders_path, img_num=80, transform=transform)"
      ],
      "metadata": {
        "id": "GNBCimRkMsJr"
      },
      "execution_count": null,
      "outputs": []
    },
    {
      "cell_type": "code",
      "source": [
        "len(dataset)"
      ],
      "metadata": {
        "id": "fVO2hupgMEbb"
      },
      "execution_count": null,
      "outputs": []
    },
    {
      "cell_type": "code",
      "source": [
        "label_names = list(dataset.label_names)"
      ],
      "metadata": {
        "id": "jOUidxZZF0Zs"
      },
      "execution_count": null,
      "outputs": []
    },
    {
      "cell_type": "code",
      "source": [
        "label_count = []\n",
        "for lbl in set(dataset.labels):\n",
        "    label_count.append(dataset.labels.count(lbl))"
      ],
      "metadata": {
        "id": "HN0CqvBPakM9"
      },
      "execution_count": null,
      "outputs": []
    },
    {
      "cell_type": "code",
      "source": [
        "plt.figure(figsize=(9, 7))\n",
        "plt.pie(label_count,\n",
        "        labels=label_names,\n",
        "        autopct='%.1f%%',)\n",
        "plt.title('Количество разных снимков в датасете', fontsize=14)\n",
        "plt.show()"
      ],
      "metadata": {
        "id": "kKFxRESFbeKO"
      },
      "execution_count": null,
      "outputs": []
    },
    {
      "cell_type": "code",
      "source": [
        "# Рассмотрим некоторые изображения из датасета\n",
        "figure = plt.figure(figsize=(8, 8))\n",
        "cols, rows = 3, 3\n",
        "for i in range(1, cols * rows + 1):\n",
        "    sample_idx = torch.randint(len(dataset), size=(1,)).item()\n",
        "    img, label = dataset[sample_idx]\n",
        "    img = img / 2 + 0.5\n",
        "    img = img.numpy()\n",
        "    img = np.transpose(img, (1, 2, 0))\n",
        "    figure.add_subplot(rows, cols, i)\n",
        "    plt.title(label_names[label])\n",
        "    plt.axis(\"off\")\n",
        "    plt.imshow(img, cmap=\"gray\")\n",
        "plt.show()"
      ],
      "metadata": {
        "id": "aPymyFMcEmVR"
      },
      "execution_count": null,
      "outputs": []
    },
    {
      "cell_type": "code",
      "source": [
        "# Создадим тренировочный, тестовый и валидационный даталоадер\n",
        "train_ds, test_ds, val_ds = torch.utils.data.random_split(dataset, [700, 50, 50])\n",
        "train_dataloader = DataLoader(train_ds, batch_size=8, shuffle=True)\n",
        "test_dataloader = DataLoader(test_ds, batch_size=8, shuffle=True)\n",
        "val_dataloader = DataLoader(val_ds, batch_size=8, shuffle=True)"
      ],
      "metadata": {
        "id": "U_Rfcr0vdabt"
      },
      "execution_count": null,
      "outputs": []
    },
    {
      "cell_type": "code",
      "source": [
        "HF_TOKEN = 'HERE SHOULD BE YOUR HUGGING FACE TOKEN'"
      ],
      "metadata": {
        "id": "w6BGEjl9LzcR"
      },
      "execution_count": null,
      "outputs": []
    },
    {
      "cell_type": "markdown",
      "source": [
        "# Реализация модели"
      ],
      "metadata": {
        "id": "CyLU74IjdnzG"
      }
    },
    {
      "cell_type": "code",
      "source": [
        "# 4. Загрузка предобученной модели ViT\n",
        "model = ViTForImageClassification.from_pretrained(\n",
        "    \"google/vit-base-patch16-224\",  # Модель ViT\n",
        "    num_labels=len(label_names),  # Количество классов (замените на ваше количество классов)\n",
        "    ignore_mismatched_sizes=True\n",
        ")\n",
        "# 5. Настройка оптимизатора и функции потерь\n",
        "optimizer = torch.optim.Adam(model.parameters(), lr=1e-4)\n",
        "criterion = torch.nn.CrossEntropyLoss()"
      ],
      "metadata": {
        "id": "Nng2YPqlK2vK"
      },
      "execution_count": null,
      "outputs": []
    },
    {
      "cell_type": "markdown",
      "source": [
        "# Обучение модели"
      ],
      "metadata": {
        "id": "p3rK4AXLdraS"
      }
    },
    {
      "cell_type": "code",
      "source": [
        "# 6. Обучение модели\n",
        "num_epochs = 5\n",
        "for epoch in range(num_epochs):\n",
        "    model.train()\n",
        "    running_loss = 0.0\n",
        "    image_num = 1\n",
        "    for images, labels in train_dataloader:\n",
        "\n",
        "        # Обнуляем градиенты\n",
        "        optimizer.zero_grad()\n",
        "\n",
        "        # Прямой проход\n",
        "        outputs = model(images).logits\n",
        "        loss = criterion(outputs, labels)\n",
        "\n",
        "        # Обратный проход и оптимизация\n",
        "        loss.backward()\n",
        "        optimizer.step()\n",
        "\n",
        "        running_loss += loss.item()\n",
        "        print(f'Loss for step {image_num} and epoch {epoch+1}: {loss}')\n",
        "        image_num+=1\n",
        "\n",
        "    print(f\"Epoch [{epoch + 1}/{num_epochs}], Loss: {running_loss / len(train_dataloader):.4f}\")"
      ],
      "metadata": {
        "id": "0ETBk8ZOLBqb"
      },
      "execution_count": null,
      "outputs": []
    },
    {
      "cell_type": "markdown",
      "source": [
        "# Оценка результатов"
      ],
      "metadata": {
        "id": "JxQT3KZTcZwT"
      }
    },
    {
      "cell_type": "code",
      "source": [
        "# 7. Оценка модели\n",
        "model.eval()\n",
        "correct = 0\n",
        "total = 0\n",
        "with torch.no_grad():\n",
        "    for images, labels in test_dataloader:\n",
        "        outputs = model(images).logits\n",
        "        _, predicted = torch.max(outputs, 1)\n",
        "        total += labels.size(0)\n",
        "        correct += (predicted == labels).sum().item()\n",
        "\n",
        "print(f\"Accuracy: {100 * correct / total:.2f}%\")"
      ],
      "metadata": {
        "id": "UCsImzL6LF4l"
      },
      "execution_count": null,
      "outputs": []
    },
    {
      "cell_type": "code",
      "source": [
        "figure = plt.figure(figsize=(12, 12))\n",
        "cols, rows = 3, 3\n",
        "for i in range(1, cols * rows + 1):\n",
        "    sample_idx = torch.randint(len(val_ds), size=(1,)).item()\n",
        "    img, label = val_ds[sample_idx]\n",
        "    input_tensor = img.unsqueeze(0)  # Добавляем batch dimension\n",
        "    # Передача изображения через модель\n",
        "    with torch.no_grad():\n",
        "        outputs = model(input_tensor)\n",
        "    # Получение логитов и применение softmax для получения вероятностей\n",
        "    logits = outputs.logits\n",
        "    probabilities = torch.nn.functional.softmax(logits, dim=-1)\n",
        "    # Определение предсказанного класса\n",
        "    predicted_class_idx = torch.argmax(probabilities, dim=1).item()\n",
        "    # predicted_probability = probabilities[0, predicted_class_idx].item()\n",
        "    # print(predicted_probability)\n",
        "    img = img / 2 + 0.5\n",
        "    img = img.numpy()\n",
        "    img = np.transpose(img, (1, 2, 0))\n",
        "    figure.add_subplot(rows, cols, i)\n",
        "    plt.title(f'Оригинальная метка: {label_names[label]}\\nпредсказанная метка: {label_names[predicted_class_idx]}')\n",
        "    plt.axis(\"off\")\n",
        "    plt.imshow(img, cmap=\"gray\")\n",
        "plt.show()"
      ],
      "metadata": {
        "id": "ZMRfnVKSu6G0"
      },
      "execution_count": null,
      "outputs": []
    },
    {
      "cell_type": "markdown",
      "source": [
        "Для такого небольшого количества обучающих данных получена хорошая точность определения класса. Такой небольшой объем обучающих данных вызван тем, что значительно увеличивается время обучения модели."
      ],
      "metadata": {
        "id": "gspoNnCscGHa"
      }
    },
    {
      "cell_type": "markdown",
      "source": [
        "# Выводы"
      ],
      "metadata": {
        "id": "9qxwLDAWch_W"
      }
    },
    {
      "cell_type": "markdown",
      "source": [
        "В ходе обучения модели удалось дообучить предобученную модель \"google/vit-base-patch16-224\" для предсказания класса космического снимка с большой точностью. Для оценки изменения поверхности земли в дальнейшем необходимо доработать данную модель так, что бы она показывала различия между двумя спутниковыми снимками."
      ],
      "metadata": {
        "id": "QLmZZ-YydDbe"
      }
    }
  ]
}